{
 "cells": [
  {
   "cell_type": "code",
   "execution_count": null,
   "metadata": {},
   "outputs": [],
   "source": [
    "import urllib.request\n",
    "import os, json, uuid,sys\n",
    "\n",
    "with open('walldrops-bck.json', 'r') as f:\n",
    "    data = json.load(f)\n",
    "\n",
    "i=-1\n",
    "for item in data[\"Backgrounds\"]:\n",
    "    newtime=\n",
    "    data[\"Backgrounds\"][item].update({'timestamp':}) \n",
    "    tempfile = os.path.join(os.path.dirname('walldrops-bck.json'), str(uuid.uuid4()))\n",
    "    with open(tempfile, 'w') as f:\n",
    "        json.dump(data, f, indent=4)\n",
    "    os.rename(tempfile, 'walldrops-bck.json')\n",
    "    i-=1"
   ]
  }
 ],
 "metadata": {
  "kernelspec": {
   "display_name": "Python 3",
   "language": "python",
   "name": "python3"
  },
  "language_info": {
   "codemirror_mode": {
    "name": "ipython",
    "version": 3
   },
   "file_extension": ".py",
   "mimetype": "text/x-python",
   "name": "python",
   "nbconvert_exporter": "python",
   "pygments_lexer": "ipython3",
   "version": "3.7.4"
  }
 },
 "nbformat": 4,
 "nbformat_minor": 4
}
